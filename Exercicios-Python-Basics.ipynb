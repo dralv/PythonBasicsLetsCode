{
 "cells": [
  {
   "cell_type": "markdown",
   "id": "d0787a86",
   "metadata": {},
   "source": [
    "# Python Basics"
   ]
  },
  {
   "cell_type": "markdown",
   "id": "f3c4b362",
   "metadata": {},
   "source": [
    "## Exercícios módulo 01"
   ]
  },
  {
   "cell_type": "markdown",
   "id": "6bf83d08",
   "metadata": {},
   "source": [
    "### 01"
   ]
  },
  {
   "cell_type": "code",
   "execution_count": 3,
   "id": "6c8af427",
   "metadata": {},
   "outputs": [
    {
     "name": "stdout",
     "output_type": "stream",
     "text": [
      "Informe um valor100\n",
      "O valor é 85.0\n"
     ]
    }
   ],
   "source": [
    "valor = int(input(\"Informe um valor\"))\n",
    "\n",
    "novo_valor = valor*0.85\n",
    "\n",
    "print(f'O valor é {novo_valor}')"
   ]
  },
  {
   "cell_type": "markdown",
   "id": "f056d91a",
   "metadata": {},
   "source": [
    "### 02"
   ]
  },
  {
   "cell_type": "code",
   "execution_count": 6,
   "id": "31421391",
   "metadata": {
    "scrolled": true
   },
   "outputs": [
    {
     "name": "stdout",
     "output_type": "stream",
     "text": [
      "Informe uma idade entre 0 e 150180\n",
      "Idade inválida\n"
     ]
    }
   ],
   "source": [
    "def valida_idade():\n",
    "    idade = int(input(\"Informe uma idade entre 0 e 150\"))\n",
    "    if(not (idade>=0 and idade <=150)):\n",
    "        print(\"Idade inválida\")\n",
    "        \n",
    "\n",
    "valida_idade()\n",
    "\n",
    "\n",
    "\n"
   ]
  },
  {
   "cell_type": "code",
   "execution_count": 9,
   "id": "d58a8835",
   "metadata": {},
   "outputs": [
    {
     "name": "stdout",
     "output_type": "stream",
     "text": [
      "Informe um salário maior que zero0\n",
      "Salário inválida\n"
     ]
    }
   ],
   "source": [
    "def valida_salario():\n",
    "    salario = int(input(\"Informe um salário maior que zero\"))\n",
    "    if(salario <=0):\n",
    "        print(\"Salário inválida\")\n",
    "        \n",
    "\n",
    "valida_salario()"
   ]
  },
  {
   "cell_type": "code",
   "execution_count": 11,
   "id": "ab3c030f",
   "metadata": {},
   "outputs": [
    {
     "name": "stdout",
     "output_type": "stream",
     "text": [
      "Informe um sexoE\n",
      "sexo inexistente\n"
     ]
    }
   ],
   "source": [
    "def valida_sexo():\n",
    "    sexo = input(\"Informe um sexo \")\n",
    "    if(not(sexo==\"M\" or sexo == \"F\" or sexo==\"Outro\")):\n",
    "        print(\"sexo inexistente\")\n",
    "    else:\n",
    "        print(\"ok\")\n",
    "        \n",
    "\n",
    "valida_sexo()"
   ]
  },
  {
   "cell_type": "markdown",
   "id": "8963367c",
   "metadata": {},
   "source": [
    "### 03"
   ]
  },
  {
   "cell_type": "code",
   "execution_count": 9,
   "id": "3307b01c",
   "metadata": {},
   "outputs": [],
   "source": [
    "def verifica_pontos(pontos):\n",
    "    if pontos == 5:\n",
    "        print(\"Você é o assasino\")\n",
    "    elif pontos == 4 or pontos == 3:\n",
    "        print(\"Você é cumplice\")\n",
    "    elif pontos == 2:\n",
    "        print(\"Você é suspeito\")\n",
    "    else:\n",
    "        print(\"Liberado\")\n",
    " "
   ]
  },
  {
   "cell_type": "code",
   "execution_count": 19,
   "id": "98c94592",
   "metadata": {},
   "outputs": [],
   "source": [
    "def quem_eh_assassino():\n",
    "    a = input(\"Mora perto da vítima? \")\n",
    "    b = input(\"Já trabalho com a vítima? \")\n",
    "    c = input(\"Telefonou para a vítima? \")\n",
    "    d = input(\"Esteve no local do crime? \")\n",
    "    e = input(\"Devia para a vítima?\")\n",
    "    \n",
    "    respostas = [a,b,c,d,e]\n",
    "    pontos = 0\n",
    "    \n",
    "    for r in respostas:\n",
    "        if r.upper() == \"SIM\":\n",
    "            pontos += 1\n",
    "    \n",
    "    verifica_pontos(pontos)"
   ]
  },
  {
   "cell_type": "code",
   "execution_count": 20,
   "id": "553d3cba",
   "metadata": {},
   "outputs": [
    {
     "name": "stdout",
     "output_type": "stream",
     "text": [
      "Mora perto da vítima? não\n",
      "Já trabalho com a vítima? sim\n",
      "Telefonou para a vítima? sim\n",
      "Esteve no local do crime? não\n",
      "Devia para a vítima?sim\n",
      "Você é cumplice\n"
     ]
    }
   ],
   "source": [
    "quem_eh_assassino()"
   ]
  },
  {
   "cell_type": "code",
   "execution_count": 6,
   "id": "fcf62748",
   "metadata": {},
   "outputs": [
    {
     "name": "stdout",
     "output_type": "stream",
     "text": [
      "Mora perto da vítima? não\n",
      "Já trabalho com a vítima? sim\n",
      "Telefonou para a vítima? sim\n",
      "Esteve no local do crime? sim\n",
      "Devia para a vítima?sim\n",
      "Você é cumplice\n"
     ]
    }
   ],
   "source": [
    "quem_eh_assassino()"
   ]
  },
  {
   "cell_type": "markdown",
   "id": "1c6bb509",
   "metadata": {},
   "source": [
    "### 04"
   ]
  },
  {
   "cell_type": "code",
   "execution_count": 2,
   "id": "8bbe8468",
   "metadata": {},
   "outputs": [
    {
     "name": "stdout",
     "output_type": "stream",
     "text": [
      " 9 x 1 = 9 \n",
      " 9 x 2 = 18 \n",
      " 9 x 3 = 27 \n",
      " 9 x 4 = 36 \n",
      " 9 x 5 = 45 \n",
      " 9 x 6 = 54 \n",
      " 9 x 7 = 63 \n",
      " 9 x 8 = 72 \n",
      " 9 x 9 = 81 \n",
      " 9 x 10 = 90 \n"
     ]
    }
   ],
   "source": [
    "def tabuada(n):\n",
    "    for i in range(1,11):\n",
    "        print(f' {n} x {i} = {n*i} ')\n",
    "tabuada(9)   "
   ]
  },
  {
   "cell_type": "markdown",
   "id": "6304d151",
   "metadata": {},
   "source": [
    "## Exercícios Módulo 2"
   ]
  },
  {
   "cell_type": "markdown",
   "id": "f3c7e483",
   "metadata": {},
   "source": [
    "### 01"
   ]
  },
  {
   "cell_type": "code",
   "execution_count": 3,
   "id": "245d404a",
   "metadata": {},
   "outputs": [
    {
     "name": "stdout",
     "output_type": "stream",
     "text": [
      "3 elementos são pares\n"
     ]
    }
   ],
   "source": [
    "def lista_par(lista):\n",
    "    lista_par = []\n",
    "    for n in lista:\n",
    "        if n%2==0:\n",
    "            lista_par.append(n)\n",
    "            \n",
    "    print(f'{len(lista_par)} elementos são pares')\n",
    "    \n",
    "lista_par([1,2,3,4,5,6])\n",
    "            "
   ]
  },
  {
   "cell_type": "markdown",
   "id": "788eb8ec",
   "metadata": {},
   "source": [
    "### 02"
   ]
  },
  {
   "cell_type": "code",
   "execution_count": 8,
   "id": "5788b84b",
   "metadata": {},
   "outputs": [
    {
     "name": "stdout",
     "output_type": "stream",
     "text": [
      "Digite uma palavra: alvaro\n",
      "a\n",
      "l\n",
      "v\n",
      "a\n",
      "r\n",
      "o\n"
     ]
    }
   ],
   "source": [
    "def qual_palavra():\n",
    "    palavra = input(\"Digite uma palavra: \")\n",
    "    return palavra\n",
    "\n",
    "def imprime_letras(palavra):\n",
    "    for l in palavra:\n",
    "        print(l)\n",
    "        \n",
    "imprime_letras(qual_palavra())"
   ]
  },
  {
   "cell_type": "markdown",
   "id": "75abde90",
   "metadata": {},
   "source": [
    "### 03"
   ]
  },
  {
   "cell_type": "code",
   "execution_count": 14,
   "id": "fa065be6",
   "metadata": {},
   "outputs": [
    {
     "name": "stdout",
     "output_type": "stream",
     "text": [
      "[4, 9, 4]\n"
     ]
    }
   ],
   "source": [
    "def soma_listas(lista1,lista2):\n",
    "    lista_soma = []\n",
    "    for i in range(len(lista1)):\n",
    "        item_soma = lista1[i] + lista2[i]\n",
    "        lista_soma.append(item_soma)\n",
    "        \n",
    "    print(lista_soma)\n",
    "    \n",
    "soma_listas([1,4,3],[3,5,1])"
   ]
  },
  {
   "cell_type": "markdown",
   "id": "94ddbf10",
   "metadata": {},
   "source": [
    "### 04"
   ]
  },
  {
   "cell_type": "code",
   "execution_count": 18,
   "id": "fa9ec7cc",
   "metadata": {},
   "outputs": [],
   "source": [
    "ano = {\n",
    "    'Janeiro':31,\n",
    "    'Fevereiro':28,\n",
    "    'Março':31,\n",
    "    'Abril':30,\n",
    "    'Maio':31,\n",
    "    'Junho':30,\n",
    "    'Julho':31,\n",
    "    'Agosto':31,\n",
    "    'Setembro':30,\n",
    "    'Outubro':31,\n",
    "    'Novembro':30,\n",
    "    'Dezembro':31\n",
    "}"
   ]
  },
  {
   "cell_type": "markdown",
   "id": "f6261030",
   "metadata": {},
   "source": [
    "### 05"
   ]
  },
  {
   "cell_type": "code",
   "execution_count": 19,
   "id": "e71a341f",
   "metadata": {},
   "outputs": [
    {
     "name": "stdout",
     "output_type": "stream",
     "text": [
      "Janeiro: 31\n",
      "Fevereiro: 28\n",
      "Março: 31\n",
      "Abril: 30\n",
      "Maio: 31\n",
      "Junho: 30\n",
      "Julho: 31\n",
      "Agosto: 31\n",
      "Setembro: 30\n",
      "Outubro: 31\n",
      "Novembro: 30\n",
      "Dezembro: 31\n"
     ]
    }
   ],
   "source": [
    "for chave in ano:\n",
    "    print(f'{chave}: {ano[chave]}')"
   ]
  },
  {
   "cell_type": "markdown",
   "id": "49f5747b",
   "metadata": {},
   "source": [
    "## Exercícios Módulo 03"
   ]
  },
  {
   "cell_type": "markdown",
   "id": "fc6ac206",
   "metadata": {},
   "source": [
    "### 01\n"
   ]
  },
  {
   "cell_type": "code",
   "execution_count": 1,
   "id": "5ff109fa",
   "metadata": {},
   "outputs": [],
   "source": [
    "import csv"
   ]
  },
  {
   "cell_type": "code",
   "execution_count": 2,
   "id": "48ea4b8a",
   "metadata": {},
   "outputs": [
    {
     "name": "stdout",
     "output_type": "stream",
     "text": [
      "['RA', 'Nome', 'Frequencia', 'Prova_1', 'Prova_2', 'Prova_3', 'Prova_4']\n",
      "['110201', 'Antonio Carlos', '20', '6.5', '8.5', '7', '6']\n",
      "['110212', 'Ana Beatriz', '20', '7', '7', '7', '8']\n",
      "['110218', 'Carlos Vernes', '17', '7', '7', '7', '7']\n",
      "['110307', 'Francisco Cunha', '20', '9', '8.5', '8.5', '10']\n",
      "['110275', 'Sandra Rosa', '15', '6.5', '7.5', '7', '7']\n",
      "['110281', 'Juliana Arruda', '18', '7.5', '7', '7.5', '8']\n",
      "['110301', 'Joao Galo', '20', '5', '6.5', '7', '5']\n",
      "['110263', 'José Valente', '20', '10', '10', '10', '10']\n",
      "['110271', 'Maria Ferreira', '19', '9.5', '8', '7', '10']\n",
      "['110236', 'Adriana Tavares', '20', '8', '8', '8', '8']\n"
     ]
    }
   ],
   "source": [
    "with open('alunos.csv','r',encoding='utf-8') as arquivo_csv:\n",
    "    reader = csv.reader(arquivo_csv)\n",
    "    for line in reader:\n",
    "        print(line)"
   ]
  },
  {
   "cell_type": "markdown",
   "id": "df82fe24",
   "metadata": {},
   "source": [
    "### 02"
   ]
  },
  {
   "cell_type": "code",
   "execution_count": null,
   "id": "414f8662",
   "metadata": {},
   "outputs": [],
   "source": [
    "dados = []\n",
    "\n",
    "with open('alunos.csv','r',encoding='utf-8') as arquivo_csv:\n",
    "    \n",
    "    reader = csv.reader(arquivo_csv)\n",
    "    for line in reader:\n",
    "        dados.append(line)\n",
    "\n",
    "print(dados)\n",
    "        "
   ]
  },
  {
   "cell_type": "code",
   "execution_count": 7,
   "id": "0aa1550f",
   "metadata": {},
   "outputs": [
    {
     "name": "stdout",
     "output_type": "stream",
     "text": [
      "['RA', 'Nome', 'Frequencia', 'Prova_1', 'Prova_2', 'Prova_3', 'Prova_4']\n",
      "['110201', 'Antonio Carlos', '20', '6.5', '8.5', '7', '6']\n",
      "['110212', 'Ana Beatriz', '20', '7', '7', '7', '8']\n",
      "['110218', 'Carlos Vernes', '17', '7', '7', '7', '7']\n",
      "['110307', 'Francisco Cunha', '20', '9', '8.5', '8.5', '10']\n",
      "['110275', 'Sandra Rosa', '15', '6.5', '7.5', '7', '7']\n",
      "['110281', 'Juliana Arruda', '18', '7.5', '7', '7.5', '8']\n",
      "['110301', 'Joao Galo', '20', '5', '6.5', '7', '5']\n",
      "['110263', 'José Valente', '20', '10', '10', '10', '10']\n",
      "['110271', 'Maria Ferreira', '19', '9.5', '8', '7', '10']\n",
      "['110236', 'Adriana Tavares', '20', '8', '8', '8', '8']\n"
     ]
    }
   ],
   "source": [
    "\n",
    "with open('alunos_copia.csv','w',newline='') as copia_csv:\n",
    "    writer = csv.writer(copia_csv)\n",
    "    writer.writerows(dados)\n",
    "    \n",
    "with open('alunos_copia.csv','r') as arquivo_copia_csv:\n",
    "    reader = csv.reader(arquivo_copia_csv)\n",
    "    for line in reader:\n",
    "        print(line)"
   ]
  },
  {
   "cell_type": "markdown",
   "id": "8e51adb6",
   "metadata": {},
   "source": [
    "### 03"
   ]
  },
  {
   "cell_type": "code",
   "execution_count": 31,
   "id": "8d1b5d7e",
   "metadata": {},
   "outputs": [
    {
     "name": "stdout",
     "output_type": "stream",
     "text": [
      "['RA', 'Nome', 'Frequencia', 'Prova_1', 'Prova_2', 'Prova_3', 'Prova_4']\n",
      "[['110201', 'Antonio Carlos', '20', '6.5', '8.5', '7', '6'], ['110212', 'Ana Beatriz', '20', '7', '7', '7', '8'], ['110218', 'Carlos Vernes', '17', '7', '7', '7', '7'], ['110307', 'Francisco Cunha', '20', '9', '8.5', '8.5', '10'], ['110275', 'Sandra Rosa', '15', '6.5', '7.5', '7', '7'], ['110281', 'Juliana Arruda', '18', '7.5', '7', '7.5', '8'], ['110301', 'Joao Galo', '20', '5', '6.5', '7', '5'], ['110263', 'José Valente', '20', '10', '10', '10', '10'], ['110271', 'Maria Ferreira', '19', '9.5', '8', '7', '10'], ['110236', 'Adriana Tavares', '20', '8', '8', '8', '8']]\n"
     ]
    }
   ],
   "source": [
    "dados = []\n",
    "\n",
    "with open('alunos.csv','r',encoding='utf-8') as arquivo_csv:\n",
    "    \n",
    "    reader = csv.reader(arquivo_csv)\n",
    "    header = next(reader)\n",
    "    for line in reader:\n",
    "        dados.append(line)\n",
    "print(header)\n",
    "print(dados)"
   ]
  },
  {
   "cell_type": "code",
   "execution_count": 33,
   "id": "1d99c288",
   "metadata": {},
   "outputs": [],
   "source": [
    "header.append('Média')\n",
    "with open('alunos_media.csv','w',newline='') as media_csv:\n",
    "    writer = csv.writer(media_csv)\n",
    "    writer.writerow(header)\n",
    "    writer.writerows(dados)\n",
    "\n",
    "with open('alunos_media.csv','r') as arquivo_media:\n",
    "    reader = csv.reader(arquivo_media)\n",
    "    next(reader)\n",
    "    for line in reader:\n",
    "        media = (float(line[3])+float(line[4])+float(line[5])+float(line[6]))/4\n",
    "        line.append(media)\n",
    "        \n",
    "\n"
   ]
  },
  {
   "cell_type": "code",
   "execution_count": 34,
   "id": "76b21c8f",
   "metadata": {},
   "outputs": [
    {
     "name": "stdout",
     "output_type": "stream",
     "text": [
      "['RA', 'Nome', 'Frequencia', 'Prova_1', 'Prova_2', 'Prova_3', 'Prova_4', 'Média']\n",
      "['110201', 'Antonio Carlos', '20', '6.5', '8.5', '7', '6']\n",
      "['110212', 'Ana Beatriz', '20', '7', '7', '7', '8']\n",
      "['110218', 'Carlos Vernes', '17', '7', '7', '7', '7']\n",
      "['110307', 'Francisco Cunha', '20', '9', '8.5', '8.5', '10']\n",
      "['110275', 'Sandra Rosa', '15', '6.5', '7.5', '7', '7']\n",
      "['110281', 'Juliana Arruda', '18', '7.5', '7', '7.5', '8']\n",
      "['110301', 'Joao Galo', '20', '5', '6.5', '7', '5']\n",
      "['110263', 'José Valente', '20', '10', '10', '10', '10']\n",
      "['110271', 'Maria Ferreira', '19', '9.5', '8', '7', '10']\n",
      "['110236', 'Adriana Tavares', '20', '8', '8', '8', '8']\n"
     ]
    }
   ],
   "source": [
    "with open('alunos_media.csv','r') as arquivo_ver:\n",
    "    reader = csv.reader(arquivo_ver)\n",
    "    for line in reader:\n",
    "        print(line)\n",
    "    "
   ]
  },
  {
   "cell_type": "markdown",
   "id": "4e80915e",
   "metadata": {},
   "source": [
    "### 04"
   ]
  },
  {
   "cell_type": "code",
   "execution_count": 35,
   "id": "980b0cf3",
   "metadata": {},
   "outputs": [],
   "source": [
    "import requests as r"
   ]
  },
  {
   "cell_type": "code",
   "execution_count": 36,
   "id": "8d00611e",
   "metadata": {},
   "outputs": [],
   "source": [
    "url = \"https://swapi.dev/api/people/4/\""
   ]
  },
  {
   "cell_type": "code",
   "execution_count": 37,
   "id": "7057982e",
   "metadata": {},
   "outputs": [],
   "source": [
    "resp = r.get(url)"
   ]
  },
  {
   "cell_type": "code",
   "execution_count": 38,
   "id": "70dfb98d",
   "metadata": {},
   "outputs": [],
   "source": [
    "dado = resp.json()"
   ]
  },
  {
   "cell_type": "code",
   "execution_count": 39,
   "id": "92578b5c",
   "metadata": {},
   "outputs": [
    {
     "data": {
      "text/plain": [
       "{'name': 'Darth Vader',\n",
       " 'height': '202',\n",
       " 'mass': '136',\n",
       " 'hair_color': 'none',\n",
       " 'skin_color': 'white',\n",
       " 'eye_color': 'yellow',\n",
       " 'birth_year': '41.9BBY',\n",
       " 'gender': 'male',\n",
       " 'homeworld': 'https://swapi.dev/api/planets/1/',\n",
       " 'films': ['https://swapi.dev/api/films/1/',\n",
       "  'https://swapi.dev/api/films/2/',\n",
       "  'https://swapi.dev/api/films/3/',\n",
       "  'https://swapi.dev/api/films/6/'],\n",
       " 'species': [],\n",
       " 'vehicles': [],\n",
       " 'starships': ['https://swapi.dev/api/starships/13/'],\n",
       " 'created': '2014-12-10T15:18:20.704000Z',\n",
       " 'edited': '2014-12-20T21:17:50.313000Z',\n",
       " 'url': 'https://swapi.dev/api/people/4/'}"
      ]
     },
     "execution_count": 39,
     "metadata": {},
     "output_type": "execute_result"
    }
   ],
   "source": [
    "dado"
   ]
  },
  {
   "cell_type": "code",
   "execution_count": 42,
   "id": "263a12bc",
   "metadata": {},
   "outputs": [
    {
     "name": "stdout",
     "output_type": "stream",
     "text": [
      "Darth Vader\n",
      "202\n",
      "136\n",
      "41.9BBY\n"
     ]
    }
   ],
   "source": [
    "infos = ['name','height','mass','birth_year']\n",
    "\n",
    "for info in infos:\n",
    "    print(dado[info])"
   ]
  },
  {
   "cell_type": "markdown",
   "id": "138537e3",
   "metadata": {},
   "source": [
    "### 05"
   ]
  },
  {
   "cell_type": "code",
   "execution_count": 47,
   "id": "4cf3fb98",
   "metadata": {},
   "outputs": [
    {
     "name": "stdout",
     "output_type": "stream",
     "text": [
      "2020-01-02 00:00:00\n"
     ]
    }
   ],
   "source": [
    "import datetime as dt\n",
    "\n",
    "url = \"https://api.covid19api.com/country/brazil\"\n",
    "resp = r.get(url)\n",
    "dados = resp.json()\n",
    "data = dados[0]['Date'][:9]\n",
    "\n",
    "print(dt.datetime.strptime(data,'%Y-%m-%d'))\n",
    "\n"
   ]
  },
  {
   "cell_type": "code",
   "execution_count": null,
   "id": "7d91c235",
   "metadata": {},
   "outputs": [],
   "source": []
  }
 ],
 "metadata": {
  "kernelspec": {
   "display_name": "Python 3 (ipykernel)",
   "language": "python",
   "name": "python3"
  },
  "language_info": {
   "codemirror_mode": {
    "name": "ipython",
    "version": 3
   },
   "file_extension": ".py",
   "mimetype": "text/x-python",
   "name": "python",
   "nbconvert_exporter": "python",
   "pygments_lexer": "ipython3",
   "version": "3.9.12"
  }
 },
 "nbformat": 4,
 "nbformat_minor": 5
}
